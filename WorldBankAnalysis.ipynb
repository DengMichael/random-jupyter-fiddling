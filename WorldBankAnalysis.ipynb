{
 "cells": [
  {
   "cell_type": "code",
   "execution_count": 1,
   "metadata": {},
   "outputs": [
    {
     "name": "stdout",
     "output_type": "stream",
     "text": [
      "                  NY.GDP.PCAP.KD  EN.CO2.MANF.ZS\n",
      "country     year                                \n",
      "China       2016     6894.464522             NaN\n",
      "            2015     6496.624013             NaN\n",
      "            2014     6108.238775       31.715227\n",
      "            2013     5721.693819       31.072303\n",
      "            2012     5336.060143       32.053006\n",
      "            2011     4971.544929       32.957118\n",
      "            2010     4560.512586       33.448077\n",
      "            2009     4142.038286       34.343978\n",
      "            2008     3805.025999       33.933522\n",
      "            2007     3487.845766       32.771231\n",
      "            2006     3069.304781       31.845395\n",
      "            2005     2738.205460       32.617407\n",
      "            2004     2472.586556       31.376397\n",
      "            2003     2258.912105       27.719599\n",
      "            2002     2065.718579       28.172876\n",
      "            2001     1905.610780       29.242298\n",
      "            2000     1771.741506       28.936556\n",
      "Japan       2016    47660.893039             NaN\n",
      "            2015    47163.494211             NaN\n",
      "            2014    46484.155267       19.180906\n",
      "            2013    46249.209589       18.247398\n",
      "            2012    45276.874335       18.524003\n",
      "            2011    44538.726191       19.405174\n",
      "            2010    44507.676386       19.833246\n",
      "            2009    42724.760370       18.602940\n",
      "            2008    45165.787919       19.484205\n",
      "            2007    45687.273815       20.064819\n",
      "            2006    44995.494492       21.622761\n",
      "            2005    44393.626384       20.499800\n",
      "            2004    43671.679974       20.381285\n",
      "            2003    42744.011285       19.858826\n",
      "            2002    42190.804873       20.172324\n",
      "            2001    42239.184926       20.336735\n",
      "            2000    42169.733284       20.647717\n",
      "Korea, Rep. 2016    25484.037590             NaN\n",
      "            2015    24870.770896             NaN\n",
      "            2014    24323.572838       13.655976\n",
      "            2013    23685.406711       13.076305\n",
      "            2012    23123.761358       13.265076\n",
      "            2011    22724.705571       13.967153\n",
      "            2010    22086.952919       14.239288\n",
      "            2009    20843.134800       13.790768\n",
      "            2008    20803.500540       15.869281\n",
      "            2007    20385.320038       15.373494\n",
      "            2006    19427.189841       17.018620\n",
      "            2005    18568.362815       16.183253\n",
      "            2004    17905.225791       17.546722\n",
      "            2003    17136.661567       18.929665\n",
      "            2002    16734.845664       19.725518\n",
      "            2001    15667.378459       21.122779\n",
      "            2000    15104.521518       22.190823\n"
     ]
    }
   ],
   "source": [
    "from pandas_datareader import wb\n",
    "import datetime as dt\n",
    "import pandas as pd\n",
    "import matplotlib.pyplot as plt\n",
    "import numpy as np\n",
    "\n",
    "#Create dataframe of GDP per capita of China, Japan and KR\n",
    "df = wb.download(indicator = ['NY.GDP.PCAP.KD', 'EN.CO2.MANF.ZS'], country = ['CN', 'JP', 'KR'], start = 2000, end = 2016)\n",
    "print(df)"
   ]
  },
  {
   "cell_type": "code",
   "execution_count": 2,
   "metadata": {},
   "outputs": [
    {
     "name": "stdout",
     "output_type": "stream",
     "text": [
      "                  NY.GDP.PCAP.KD  EN.CO2.MANF.ZS\n",
      "country     year                                \n",
      "China       2014     6108.238775       31.715227\n",
      "            2013     5721.693819       31.072303\n",
      "            2012     5336.060143       32.053006\n",
      "            2011     4971.544929       32.957118\n",
      "            2010     4560.512586       33.448077\n",
      "            2009     4142.038286       34.343978\n",
      "            2008     3805.025999       33.933522\n",
      "            2007     3487.845766       32.771231\n",
      "            2006     3069.304781       31.845395\n",
      "            2005     2738.205460       32.617407\n",
      "            2004     2472.586556       31.376397\n",
      "            2003     2258.912105       27.719599\n",
      "            2002     2065.718579       28.172876\n",
      "            2001     1905.610780       29.242298\n",
      "            2000     1771.741506       28.936556\n",
      "Japan       2014    46484.155267       19.180906\n",
      "            2013    46249.209589       18.247398\n",
      "            2012    45276.874335       18.524003\n",
      "            2011    44538.726191       19.405174\n",
      "            2010    44507.676386       19.833246\n",
      "            2009    42724.760370       18.602940\n",
      "            2008    45165.787919       19.484205\n",
      "            2007    45687.273815       20.064819\n",
      "            2006    44995.494492       21.622761\n",
      "            2005    44393.626384       20.499800\n",
      "            2004    43671.679974       20.381285\n",
      "            2003    42744.011285       19.858826\n",
      "            2002    42190.804873       20.172324\n",
      "            2001    42239.184926       20.336735\n",
      "            2000    42169.733284       20.647717\n",
      "Korea, Rep. 2014    24323.572838       13.655976\n",
      "            2013    23685.406711       13.076305\n",
      "            2012    23123.761358       13.265076\n",
      "            2011    22724.705571       13.967153\n",
      "            2010    22086.952919       14.239288\n",
      "            2009    20843.134800       13.790768\n",
      "            2008    20803.500540       15.869281\n",
      "            2007    20385.320038       15.373494\n",
      "            2006    19427.189841       17.018620\n",
      "            2005    18568.362815       16.183253\n",
      "            2004    17905.225791       17.546722\n",
      "            2003    17136.661567       18.929665\n",
      "            2002    16734.845664       19.725518\n",
      "            2001    15667.378459       21.122779\n",
      "            2000    15104.521518       22.190823\n",
      "                  NY.GDP.PCAP.KD  EN.CO2.MANF.ZS\n",
      "country     year                                \n",
      "China       2014     6108.238775       31.715227\n",
      "            2013     5721.693819       31.072303\n",
      "            2012     5336.060143       32.053006\n",
      "            2011     4971.544929       32.957118\n",
      "            2010     4560.512586       33.448077\n",
      "            2009     4142.038286       34.343978\n",
      "            2008     3805.025999       33.933522\n",
      "            2007     3487.845766       32.771231\n",
      "            2006     3069.304781       31.845395\n",
      "            2005     2738.205460       32.617407\n",
      "            2004     2472.586556       31.376397\n",
      "            2003     2258.912105       27.719599\n",
      "            2002     2065.718579       28.172876\n",
      "            2001     1905.610780       29.242298\n",
      "            2000     1771.741506       28.936556\n",
      "Japan       2014    46484.155267       19.180906\n",
      "            2013    46249.209589       18.247398\n",
      "            2012    45276.874335       18.524003\n",
      "            2011    44538.726191       19.405174\n",
      "            2010    44507.676386       19.833246\n",
      "            2009    42724.760370       18.602940\n",
      "            2008    45165.787919       19.484205\n",
      "            2007    45687.273815       20.064819\n",
      "            2006    44995.494492       21.622761\n",
      "            2005    44393.626384       20.499800\n",
      "            2004    43671.679974       20.381285\n",
      "            2003    42744.011285       19.858826\n",
      "            2002    42190.804873       20.172324\n",
      "            2001    42239.184926       20.336735\n",
      "            2000    42169.733284       20.647717\n",
      "Korea, Rep. 2014    24323.572838       13.655976\n",
      "            2013    23685.406711       13.076305\n",
      "            2012    23123.761358       13.265076\n",
      "            2011    22724.705571       13.967153\n",
      "            2010    22086.952919       14.239288\n",
      "            2009    20843.134800       13.790768\n",
      "            2008    20803.500540       15.869281\n",
      "            2007    20385.320038       15.373494\n",
      "            2006    19427.189841       17.018620\n",
      "            2005    18568.362815       16.183253\n",
      "            2004    17905.225791       17.546722\n",
      "            2003    17136.661567       18.929665\n",
      "            2002    16734.845664       19.725518\n",
      "            2001    15667.378459       21.122779\n",
      "            2000    15104.521518       22.190823\n"
     ]
    }
   ],
   "source": [
    "df = df.dropna()\n",
    "df = df.reset_index()\n",
    "df = df.set_index(['country', 'year'])\n",
    "print(df)\n",
    "print(df)"
   ]
  },
  {
   "cell_type": "code",
   "execution_count": 3,
   "metadata": {
    "scrolled": true
   },
   "outputs": [
    {
     "name": "stdout",
     "output_type": "stream",
     "text": [
      "                           GDP        CO2\n",
      "Country     Year                         \n",
      "China       2014   6108.238775  31.715227\n",
      "            2013   5721.693819  31.072303\n",
      "            2012   5336.060143  32.053006\n",
      "            2011   4971.544929  32.957118\n",
      "            2010   4560.512586  33.448077\n",
      "            2009   4142.038286  34.343978\n",
      "            2008   3805.025999  33.933522\n",
      "            2007   3487.845766  32.771231\n",
      "            2006   3069.304781  31.845395\n",
      "            2005   2738.205460  32.617407\n",
      "            2004   2472.586556  31.376397\n",
      "            2003   2258.912105  27.719599\n",
      "            2002   2065.718579  28.172876\n",
      "            2001   1905.610780  29.242298\n",
      "            2000   1771.741506  28.936556\n",
      "Japan       2014  46484.155267  19.180906\n",
      "            2013  46249.209589  18.247398\n",
      "            2012  45276.874335  18.524003\n",
      "            2011  44538.726191  19.405174\n",
      "            2010  44507.676386  19.833246\n",
      "            2009  42724.760370  18.602940\n",
      "            2008  45165.787919  19.484205\n",
      "            2007  45687.273815  20.064819\n",
      "            2006  44995.494492  21.622761\n",
      "            2005  44393.626384  20.499800\n",
      "            2004  43671.679974  20.381285\n",
      "            2003  42744.011285  19.858826\n",
      "            2002  42190.804873  20.172324\n",
      "            2001  42239.184926  20.336735\n",
      "            2000  42169.733284  20.647717\n",
      "Korea, Rep. 2014  24323.572838  13.655976\n",
      "            2013  23685.406711  13.076305\n",
      "            2012  23123.761358  13.265076\n",
      "            2011  22724.705571  13.967153\n",
      "            2010  22086.952919  14.239288\n",
      "            2009  20843.134800  13.790768\n",
      "            2008  20803.500540  15.869281\n",
      "            2007  20385.320038  15.373494\n",
      "            2006  19427.189841  17.018620\n",
      "            2005  18568.362815  16.183253\n",
      "            2004  17905.225791  17.546722\n",
      "            2003  17136.661567  18.929665\n",
      "            2002  16734.845664  19.725518\n",
      "            2001  15667.378459  21.122779\n",
      "            2000  15104.521518  22.190823\n"
     ]
    }
   ],
   "source": [
    "df.rename({'NY.GDP.PCAP.KD': \"GDP\", 'EN.CO2.MANF.ZS': \"CO2\"}, axis = 1, inplace = True)\n",
    "df.index.names = map(lambda x:x.title(), df.index.names)\n",
    "\n",
    "print(df)"
   ]
  },
  {
   "cell_type": "code",
   "execution_count": 4,
   "metadata": {},
   "outputs": [
    {
     "name": "stdout",
     "output_type": "stream",
     "text": [
      "              GDP        CO2\n",
      "Year                        \n",
      "2000  1771.741506  28.936556\n",
      "2001  1905.610780  29.242298\n",
      "2002  2065.718579  28.172876\n",
      "2003  2258.912105  27.719599\n",
      "2004  2472.586556  31.376397\n",
      "2005  2738.205460  32.617407\n",
      "2006  3069.304781  31.845395\n",
      "2007  3487.845766  32.771231\n",
      "2008  3805.025999  33.933522\n",
      "2009  4142.038286  34.343978\n",
      "2010  4560.512586  33.448077\n",
      "2011  4971.544929  32.957118\n",
      "2012  5336.060143  32.053006\n",
      "2013  5721.693819  31.072303\n",
      "2014  6108.238775  31.715227\n"
     ]
    }
   ],
   "source": [
    "dfc = df.loc['China']\n",
    "dfc = dfc.sort_values(by = 'Year')\n",
    "print(dfc)"
   ]
  },
  {
   "cell_type": "code",
   "execution_count": 5,
   "metadata": {},
   "outputs": [
    {
     "name": "stdout",
     "output_type": "stream",
     "text": [
      "           GDP       CO2\n",
      "Year                    \n",
      "2000 -1.276188 -1.223809\n",
      "2001 -1.184136 -1.076717\n",
      "2002 -1.074041 -1.591215\n",
      "2003 -0.941196 -1.809286\n",
      "2004 -0.794267 -0.050004\n",
      "2005 -0.611620  0.547045\n",
      "2006 -0.383947  0.175631\n",
      "2007 -0.096147  0.621050\n",
      "2008  0.121955  1.180227\n",
      "2009  0.353694  1.377697\n",
      "2010  0.641449  0.946680\n",
      "2011  0.924086  0.710480\n",
      "2012  1.174737  0.275513\n",
      "2013  1.439910 -0.196303\n",
      "2014  1.705709  0.113008\n",
      "0.5682473712839633\n"
     ]
    }
   ],
   "source": [
    "#Normalize the data\n",
    "dfc['GDP'] = (dfc['GDP'] - dfc['GDP'].mean())/dfc['GDP'].std()\n",
    "dfc['CO2'] = (dfc['CO2'] - dfc['CO2'].mean())/dfc['CO2'].std()\n",
    "print(dfc)\n",
    "print(dfc['GDP'].corr(dfc['CO2']))"
   ]
  },
  {
   "cell_type": "code",
   "execution_count": 6,
   "metadata": {},
   "outputs": [
    {
     "name": "stdout",
     "output_type": "stream",
     "text": [
      "               GDP        CO2\n",
      "Year                         \n",
      "2000  42169.733284  20.647717\n",
      "2001  42239.184926  20.336735\n",
      "2002  42190.804873  20.172324\n",
      "2003  42744.011285  19.858826\n",
      "2004  43671.679974  20.381285\n",
      "2005  44393.626384  20.499800\n",
      "2006  44995.494492  21.622761\n",
      "2007  45687.273815  20.064819\n",
      "2008  45165.787919  19.484205\n",
      "2009  42724.760370  18.602940\n",
      "2010  44507.676386  19.833246\n",
      "2011  44538.726191  19.405174\n",
      "2012  45276.874335  18.524003\n",
      "2013  46249.209589  18.247398\n",
      "2014  46484.155267  19.180906\n"
     ]
    }
   ],
   "source": [
    "dfj = df.loc['Japan']\n",
    "dfj = dfj.sort_values(by = 'Year')\n",
    "print(dfj)"
   ]
  },
  {
   "cell_type": "code",
   "execution_count": 7,
   "metadata": {},
   "outputs": [
    {
     "name": "stdout",
     "output_type": "stream",
     "text": [
      "           GDP       CO2\n",
      "Year                    \n",
      "2000 -1.362190  0.946320\n",
      "2001 -1.315651  0.602889\n",
      "2002 -1.348070  0.421323\n",
      "2003 -0.977376  0.075113\n",
      "2004 -0.355760  0.652088\n",
      "2005  0.128004  0.782970\n",
      "2006  0.531305  2.023103\n",
      "2007  0.994855  0.302601\n",
      "2008  0.645416 -0.338596\n",
      "2009 -0.990275 -1.311816\n",
      "2010  0.204427  0.046865\n",
      "2011  0.225233 -0.425873\n",
      "2012  0.719853 -1.398989\n",
      "2013  1.371398 -1.704456\n",
      "2014  1.528832 -0.673543\n",
      "-0.34711331888566804\n"
     ]
    }
   ],
   "source": [
    "dfj['GDP'] = (dfj['GDP'] - dfj['GDP'].mean())/dfj['GDP'].std()\n",
    "dfj['CO2'] = (dfj['CO2'] - dfj['CO2'].mean())/dfj['CO2'].std()\n",
    "print(dfj)\n",
    "print(dfj['GDP'].corr(dfj['CO2']))"
   ]
  },
  {
   "cell_type": "code",
   "execution_count": 8,
   "metadata": {},
   "outputs": [
    {
     "name": "stdout",
     "output_type": "stream",
     "text": [
      "               GDP        CO2\n",
      "Year                         \n",
      "2000  15104.521518  22.190823\n",
      "2001  15667.378459  21.122779\n",
      "2002  16734.845664  19.725518\n",
      "2003  17136.661567  18.929665\n",
      "2004  17905.225791  17.546722\n",
      "2005  18568.362815  16.183253\n",
      "2006  19427.189841  17.018620\n",
      "2007  20385.320038  15.373494\n",
      "2008  20803.500540  15.869281\n",
      "2009  20843.134800  13.790768\n",
      "2010  22086.952919  14.239288\n",
      "2011  22724.705571  13.967153\n",
      "2012  23123.761358  13.265076\n",
      "2013  23685.406711  13.076305\n",
      "2014  24323.572838  13.655976\n"
     ]
    }
   ],
   "source": [
    "dfk = df.loc['Korea, Rep.']\n",
    "dfk = dfk.sort_values(by = 'Year')\n",
    "print(dfk)"
   ]
  },
  {
   "cell_type": "code",
   "execution_count": 9,
   "metadata": {},
   "outputs": [
    {
     "name": "stdout",
     "output_type": "stream",
     "text": [
      "           GDP       CO2\n",
      "Year                    \n",
      "2000 -1.614824  1.961269\n",
      "2001 -1.425342  1.599726\n",
      "2002 -1.065987  1.126740\n",
      "2003 -0.930719  0.857337\n",
      "2004 -0.671987  0.389198\n",
      "2005 -0.448747 -0.072349\n",
      "2006 -0.159629  0.210431\n",
      "2007  0.162918 -0.346460\n",
      "2008  0.303696 -0.178632\n",
      "2009  0.317039 -0.882227\n",
      "2010  0.735761 -0.730399\n",
      "2011  0.950456 -0.822519\n",
      "2012  1.084795 -1.060179\n",
      "2013  1.273869 -1.124080\n",
      "2014  1.488703 -0.927855\n",
      "-0.9558443946283318\n"
     ]
    }
   ],
   "source": [
    "#Normalize them\n",
    "dfk['GDP'] = (dfk['GDP'] - dfk['GDP'].mean())/dfk['GDP'].std()\n",
    "dfk['CO2'] = (dfk['CO2'] - dfk['CO2'].mean())/dfk['CO2'].std()\n",
    "print(dfk)\n",
    "print(dfk['GDP'].corr(dfk['CO2']))"
   ]
  },
  {
   "cell_type": "code",
   "execution_count": 10,
   "metadata": {},
   "outputs": [
    {
     "name": "stdout",
     "output_type": "stream",
     "text": [
      "AxesSubplot(0.125,0.125;0.775x0.755)\n",
      "AxesSubplot(0.125,0.125;0.775x0.755)\n"
     ]
    },
    {
     "data": {
      "text/plain": [
       "<matplotlib.axes._subplots.AxesSubplot at 0x25db1927c50>"
      ]
     },
     "execution_count": 10,
     "metadata": {},
     "output_type": "execute_result"
    },
    {
     "data": {
      "text/plain": [
       "<matplotlib.figure.Figure at 0x25daf6b8cf8>"
      ]
     },
     "metadata": {},
     "output_type": "display_data"
    },
    {
     "data": {
      "image/png": "[encoded data removed]",
      "text/plain": [
       "<matplotlib.figure.Figure at 0x25daf2de668>"
      ]
     },
     "metadata": {},
     "output_type": "display_data"
    },
    {
     "data": {
      "image/png": "[encoded data removed]",
      "text/plain": [
       "<matplotlib.figure.Figure at 0x25db1788a58>"
      ]
     },
     "metadata": {},
     "output_type": "display_data"
    },
    {
     "data": {
      "image/png": "[encoded data removed]",
      "text/plain": [
       "<matplotlib.figure.Figure at 0x25daf77f278>"
      ]
     },
     "metadata": {},
     "output_type": "display_data"
    },
    {
     "data": {
      "image/png": "[encoded data removed]",
      "text/plain": [
       "<matplotlib.figure.Figure at 0x25db18aee80>"
      ]
     },
     "metadata": {},
     "output_type": "display_data"
    },
    {
     "data": {
      "image/png": "[encoded data removed]",
      "text/plain": [
       "<matplotlib.figure.Figure at 0x25db1942438>"
      ]
     },
     "metadata": {},
     "output_type": "display_data"
    }
   ],
   "source": [
    "#Andrews plot\n",
    "from pandas.plotting import andrews_curves\n",
    "plt.figure()\n",
    "#Plot by GDP\n",
    "print(df.unstack(level = 0).drop(columns = 'CO2').plot())\n",
    "#Plot by CO2\n",
    "print(df.unstack(level = 0).drop(columns = 'GDP').plot())\n",
    "#Plot normalized graphs\n",
    "dfc.plot()\n",
    "dfj.plot()\n",
    "dfk.plot()"
   ]
  },
  {
   "cell_type": "code",
   "execution_count": 11,
   "metadata": {},
   "outputs": [
    {
     "ename": "NameError",
     "evalue": "name 'C' is not defined",
     "output_type": "error",
     "traceback": [
      "\u001b[1;31m---------------------------------------------------------------------------\u001b[0m",
      "\u001b[1;31mNameError\u001b[0m                                 Traceback (most recent call last)",
      "\u001b[1;32m<ipython-input-11-6fc83d5e8d86>\u001b[0m in \u001b[0;36m<module>\u001b[1;34m()\u001b[0m\n\u001b[1;32m----> 1\u001b[1;33m \u001b[0mC\u001b[0m\u001b[1;31m#Measure anomalies in the time series\u001b[0m\u001b[1;33m\u001b[0m\u001b[0m\n\u001b[0m",
      "\u001b[1;31mNameError\u001b[0m: name 'C' is not defined"
     ]
    }
   ],
   "source": [
    "#Measure anomalies in the time series"
   ]
  }
 ],
 "metadata": {
  "kernelspec": {
   "display_name": "Python 3",
   "language": "python",
   "name": "python3"
  },
  "language_info": {
   "codemirror_mode": {
    "name": "ipython",
    "version": 3
   },
   "file_extension": ".py",
   "mimetype": "text/x-python",
   "name": "python",
   "nbconvert_exporter": "python",
   "pygments_lexer": "ipython3",
   "version": "3.6.4"
  }
 },
 "nbformat": 4,
 "nbformat_minor": 2
}
